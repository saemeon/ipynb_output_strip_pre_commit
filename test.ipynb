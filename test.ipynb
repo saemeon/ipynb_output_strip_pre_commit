{
 "cells": [
  {
   "cell_type": "code",
   "execution_count": null,
   "metadata": {},
   "outputs": [],
   "source": [
    "from time import sleep\n",
    "import matplotlib.pyplot as plt\n",
    "\n",
    "def make_plot():\n",
    "    sleep(10)\n",
    "    plt.plot([1,2], [2,3])\n",
    "\n",
    "make_plot()"
   ]
  }
 ],
 "metadata": {
  "language_info": {
   "name": "python"
  }
 },
 "nbformat": 4,
 "nbformat_minor": 2
}
